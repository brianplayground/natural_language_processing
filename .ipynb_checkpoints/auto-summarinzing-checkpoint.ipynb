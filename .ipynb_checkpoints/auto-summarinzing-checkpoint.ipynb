{
 "cells": [
  {
   "cell_type": "code",
   "execution_count": 1,
   "metadata": {},
   "outputs": [],
   "source": [
    "# using abstract extraction"
   ]
  },
  {
   "cell_type": "code",
   "execution_count": 128,
   "metadata": {},
   "outputs": [],
   "source": [
    "import requests\n",
    "from bs4 import BeautifulSoup\n",
    "\n",
    "from nltk.tokenize import sent_tokenize, word_tokenize\n",
    "from nltk.corpus import stopwords\n",
    "from string import punctuation\n",
    "from nltk.probability import FreqDist # frequency distribution\n",
    "from heapq import nlargest\n",
    "\n",
    "from collections import defaultdict"
   ]
  },
  {
   "cell_type": "code",
   "execution_count": 3,
   "metadata": {},
   "outputs": [],
   "source": [
    "articleURL = \"https://electricliterature.com/how-writing-fiction-helps-me-give-shape-to-the-chaos-of-trauma-1def5d0d852b\""
   ]
  },
  {
   "cell_type": "code",
   "execution_count": 107,
   "metadata": {},
   "outputs": [],
   "source": [
    "def getText(url):\n",
    "    body = requests.get(articleURL)\n",
    "    soup = BeautifulSoup(body.content,\"html.parser\")\n",
    "    text = ' '.join(map(lambda p: p.text, soup.findAll(class_='graf')))\n",
    "    text = text.encode('ascii', errors='replace') #.replace('?',' ')\n",
    "    text = text.decode(\"utf-8\")\n",
    "    return text.replace('?', ' ')"
   ]
  },
  {
   "cell_type": "code",
   "execution_count": 117,
   "metadata": {},
   "outputs": [],
   "source": [
    "data = getText(articleURL)"
   ]
  },
  {
   "cell_type": "code",
   "execution_count": 138,
   "metadata": {},
   "outputs": [
    {
     "data": {
      "text/plain": [
       "'How Writing Fiction Helps Me Give Shape to the Chaos of Trauma The stories we most need to tell don t have beginnings, ends, or morals   unless we write them that way Image by katyjukes I started writing my second novel in the aftermath of violence. In a more-common-than-you-think incident   one that is often used for titillation or as the opening scene of some revenge movie involving a father or a husband with a gun   a friend of mine was raped. I was haunted by the details: the red binders of mugshots my friend searched through at the police station; the bizarrely stubborn fingerprint dust smeared all over her walls. I was haunted by what happened to her but also what had happened to me, because of course I also have my own versions of this story, which I have never told. It s not that I don t want to. It s more that I don t know how. For me, as a fiction writer, narrative has a purpose: it s how we humans create meaning. It s where our lessons are. Our maps. But my stories have no beginning, no ending. No cause and consequence. No comeuppance. They happened. I escaped.  The first time a strange man stuck his hand up my skirt, I was standing in a New York subway car. I turned, reflexively, smacking him in the face, and he came after me, violent and outraged that I would hit him. It wasn t until the man I was with, who had gotten into a different door and had missed the whole thing, arrived and confronted him that he backed off. No bad enough, you might say. And then, there s that short skirt. The second time, I was at a political rally in Pakistan, where I had traveled for a conference. My companions, a flaming redhead who had grown up in India in a family working in international relief, and the Pakistani female journalist who had suggested and organized our outing, helped me change into a conservative shalwar kameez and dupatta as we hurried to hear Pakistan s first female Prime Minister speak. For me, as a fiction writer, narrative has a purpose: it s how we humans create meaning. But my stories have no beginning, no ending. No cause and consequence. No comeuppance. The rally was supposed to begin at 4 p.m. We got there early. The platform for the speakers was a stone structure in the middle of a space bigger than a football field. We started toward it, and I didn t notice that we had drawn a crowd. Of men. They were talking to us, or trying to. We were brushing them off, politely. Then there were more of them, and then there it was: a hand grabbing between my legs. I seized the arm attached to the hand, but it didn t withdraw. I followed it to a face that looked at me as if I was a rabbit, cornered. He had me, as it were, but he didn t see me. I was nothing, not human. What would forever stay with me was that look he gave me   the hostile glare, the gaze that said I was no more than an animal, albeit one who would not stop screaming. A reality I once believed in, about myself, my safety, my place in the world, was suddenly running through my fingers. His view of me erased my own.  The mob around us was attracting attention. Our journalist leader managed to raise enough of a ruckus that an older man broke through the group that was groping us, and they stepped away. He apologized profusely and led us toward the dais, which was surrounded by double loops of razor wire lying on the ground. Who knew it was such a simple thing to step down on razor wire so one could cross over it  We should have paid more attention, but we were now safe in the press area as the hours ticked by and the field filled with three-quarters of a million people, almost all men, mostly bussed from rural areas for the spectacle. It wasn t until after 8 p.m. that Benazir Bhutto took the stage. In the twilight before that, the crowd grew restless and tired of waiting, and there was a surge as the men rushed through the barbed wire and sent us scrambling. The only place to go was literally up: in front of us was the rock wall of the dais, and about halfway up the side, a small perch or outcropping about five feet below the edge, almost like the conductor s platform in the orchestra pit below a stage. We managed to scramble up, helped by some spectators who were already perched there. We three women were literally hanging out for all to see as the final hour ticked by, and the sympathetic men who shared the perch assured us that they would keep us safe once the rally was over. They were the first ones to grab my friend s ass when we stood up to leave. Judith Beheading Her Would-Be RapistOn women fighting back, in art and lifeelectricliterature.com This story, when I try to tell it, devolves into a painful litany of  and then.  We made it down to the ground, delivered directly into the waiting crowd. Some of the men we had been sitting with did help us. A double circle of them locked arms around us trying to keep the others away. At times, other men would join the circle, pretending to want to help us so they could make it to the front and lunge at us. It felt endless. My friend was screaming my name; our circle was a bubble on the surface of the ocean, looking for a way out, but we were going around and around the dais   at one point past a line of about 40 policemen. Until then, it was all thuds and squeezes, screams in the dark, but I remember looking up and there they were, clearly in my view. Had I thought they would help, that line of uniformed protectors with their machine guns  They were peacekeepers, after all. At what point did I understand that we were simply passing them as they looked on and did nothing  Who were they there for, if not for us  This story, when I try to tell it, devolves into a painful litany of  and then.  Eventually, our circle found a bus   who knows who it belonged to or where it was going    but they got us on it. As the door closed behind us, the mob fell on the bus, or rather they climbed onto it, trying to get into the windows, plastering their bodies onto the windshield. We could hear feet on the roof. Knees and elbows. The bus started rocking, and the driver stepped on the gas and pushed through the crowd. And that was all. We were lucky.  Trauma is a loop. It is disorder, by definition: a break in understanding and time. The narrative stalls; it goes nowhere, repeats, leaving you stuck in feelings and fragments that can be too hard to bear. I have found this trauma loop in much of my research for each of my three books, including most recently, among the survivors of Hiroshima, who lived through something so far beyond nightmare that the only way to pull themselves out of it was to create a narrative to make sense of the senseless, or to block it, as much as possible, from their minds. Trauma is a loop. It is disorder, by definition: a break in understanding and time. The book of mugshots, the fingerprint dust, the elevated subway platform. You will find them in my latest novel. That line of stone-faced policemen and their automatic weapons appear more in spirit, asking the question: whose peace do they serve  The ease with which my attackers erased and claimed control over me, their entitled gaze and my disappearing safety These fragments have yet to shape themselves into a narrative I can make meaning out of, but they find their way in through my obsessions: What do we do when we are broken, or are reminded that we could be  How do we move forward, especially when we know there is so rarely justice  Why does it keep happening, again and again  In recent years, we have seen the wax and wane of memoir, and the rise of testimony and witness. We are asking to be seen. But it takes great courage to stand alone in the spotlight of your own story and try to make sense of it. The central question asked in memoir is  How did this happen and what do I do about it,  which requires a kind of healing and reclamation I have not yet found. My recounting of the attack in Pakistan is more akin to testimony, a rawer and more simple,  This happened to me.  Upon rereading, my story floats, unfinished. The structure I have imposed on it   of time and one sentence following another   wraps it up neatly and robs it of its power. It reads as if that evening is not still there, resonating in some small pocket in me. The structure I have imposed on it   of time and one sentence following another   wraps it up neatly and robs it of its power. It reads as if that evening is not still there, resonating in some small pocket in me. Fiction works differently. My imagination gives me a framework to process the grief and terror and the consequences, even when I myself have not found any resolution. It allows me to enter my own traumatic experiences sideways and linger inside them, if I know I can give them to characters who might be lucky enough to find the antidote: love, connection, community, family. In other words, I can enter   and exit   the trauma loop through stories that are not exactly the same as mine. This goes for the reader also. Recent studies periodically assure us that stories   literary fiction, hardcover books, even the simple act of reading   promote empathy. We rarely have identical experiences, so fiction is how we practice linking our similar or parallel realities so we can feel them. This seems particularly useful in our current society, where we are all so separated, and are working so hard to block the violence that keeps happening to us from our minds. Fiction connects us, and it can also contribute to our healing. When we see ourselves in worlds we don t live in, like The Handmaid s Tale or The Color Purple, sometimes, that very different violence helps us finally process our own. Because as much as our memoirs and testimonies are brave and validating, fiction does not just mirror our truths so they are safe to experience; it also helps us endure the aftermath. Because long after the immediate experience is over, survival struggles onward, in every moment of our daily lives. Fiction does not just mirror our truths so they are safe to experience; it also helps us endure the aftermath. The morning after the rally in Pakistan, the rioting was in the newspaper. It didn t mention us. But it did note that one of the  lady ministers  who was on the dais with Prime Minister Bhutto had been attacked by the spectators and that  her clothes were removed.  I read that in my hotel room with a room service breakfast, after assuring the organizers of the conference that I was okay and ready to start my workday. Then I went to the elevator to go down to the main hall, and when the doors slid open, it was crammed full with men, who all stared at me. I looked at them. They looked at me. It was not night; they were not precisely a crowd, but panic coursed through me at the thought of having to step in with them. I froze, but the elevator wasn t moving and they pushed into each other to make a space for me. I knew it would be rude to wait for the next one. It felt equally impossible to step into the elevator and keep my back to the door. I did what was polite   stepped in and turned around   even though everything in me screamed not to present my defenseless back to anyone I could not see. It was a new awareness, implanted in my body by the men who attacked me. I ignored it. I pretended everything was fine because I did not want to offend anyone, and that too, is the long, slow, reality of violence, one that fiction can reflect back to us. The reminder that living life as a target of violence is a process, and escaping the trauma loop takes time.  '"
      ]
     },
     "execution_count": 138,
     "metadata": {},
     "output_type": "execute_result"
    }
   ],
   "source": [
    "data"
   ]
  },
  {
   "cell_type": "code",
   "execution_count": 110,
   "metadata": {},
   "outputs": [],
   "source": [
    "sents = sent_tokenize(data)"
   ]
  },
  {
   "cell_type": "code",
   "execution_count": 114,
   "metadata": {},
   "outputs": [
    {
     "data": {
      "text/plain": [
       "{'!',\n",
       " '\"',\n",
       " '#',\n",
       " '$',\n",
       " '%',\n",
       " '&',\n",
       " \"'\",\n",
       " '(',\n",
       " ')',\n",
       " '*',\n",
       " '+',\n",
       " ',',\n",
       " '-',\n",
       " '.',\n",
       " '/',\n",
       " ':',\n",
       " ';',\n",
       " '<',\n",
       " '=',\n",
       " '>',\n",
       " '?',\n",
       " '@',\n",
       " '[',\n",
       " '\\\\',\n",
       " ']',\n",
       " '^',\n",
       " '_',\n",
       " '`',\n",
       " 'a',\n",
       " 'about',\n",
       " 'above',\n",
       " 'after',\n",
       " 'again',\n",
       " 'against',\n",
       " 'ain',\n",
       " 'all',\n",
       " 'am',\n",
       " 'an',\n",
       " 'and',\n",
       " 'any',\n",
       " 'are',\n",
       " 'aren',\n",
       " \"aren't\",\n",
       " 'as',\n",
       " 'at',\n",
       " 'be',\n",
       " 'because',\n",
       " 'been',\n",
       " 'before',\n",
       " 'being',\n",
       " 'below',\n",
       " 'between',\n",
       " 'both',\n",
       " 'but',\n",
       " 'by',\n",
       " 'can',\n",
       " 'couldn',\n",
       " \"couldn't\",\n",
       " 'd',\n",
       " 'did',\n",
       " 'didn',\n",
       " \"didn't\",\n",
       " 'do',\n",
       " 'does',\n",
       " 'doesn',\n",
       " \"doesn't\",\n",
       " 'doing',\n",
       " 'don',\n",
       " \"don't\",\n",
       " 'down',\n",
       " 'during',\n",
       " 'each',\n",
       " 'few',\n",
       " 'for',\n",
       " 'from',\n",
       " 'further',\n",
       " 'had',\n",
       " 'hadn',\n",
       " \"hadn't\",\n",
       " 'has',\n",
       " 'hasn',\n",
       " \"hasn't\",\n",
       " 'have',\n",
       " 'haven',\n",
       " \"haven't\",\n",
       " 'having',\n",
       " 'he',\n",
       " 'her',\n",
       " 'here',\n",
       " 'hers',\n",
       " 'herself',\n",
       " 'him',\n",
       " 'himself',\n",
       " 'his',\n",
       " 'how',\n",
       " 'i',\n",
       " 'if',\n",
       " 'in',\n",
       " 'into',\n",
       " 'is',\n",
       " 'isn',\n",
       " \"isn't\",\n",
       " 'it',\n",
       " \"it's\",\n",
       " 'its',\n",
       " 'itself',\n",
       " 'just',\n",
       " 'll',\n",
       " 'm',\n",
       " 'ma',\n",
       " 'me',\n",
       " 'mightn',\n",
       " \"mightn't\",\n",
       " 'more',\n",
       " 'most',\n",
       " 'mustn',\n",
       " \"mustn't\",\n",
       " 'my',\n",
       " 'myself',\n",
       " 'needn',\n",
       " \"needn't\",\n",
       " 'no',\n",
       " 'nor',\n",
       " 'not',\n",
       " 'now',\n",
       " 'o',\n",
       " 'of',\n",
       " 'off',\n",
       " 'on',\n",
       " 'once',\n",
       " 'only',\n",
       " 'or',\n",
       " 'other',\n",
       " 'our',\n",
       " 'ours',\n",
       " 'ourselves',\n",
       " 'out',\n",
       " 'over',\n",
       " 'own',\n",
       " 're',\n",
       " 's',\n",
       " 'same',\n",
       " 'shan',\n",
       " \"shan't\",\n",
       " 'she',\n",
       " \"she's\",\n",
       " 'should',\n",
       " \"should've\",\n",
       " 'shouldn',\n",
       " \"shouldn't\",\n",
       " 'so',\n",
       " 'some',\n",
       " 'such',\n",
       " 't',\n",
       " 'than',\n",
       " 'that',\n",
       " \"that'll\",\n",
       " 'the',\n",
       " 'their',\n",
       " 'theirs',\n",
       " 'them',\n",
       " 'themselves',\n",
       " 'then',\n",
       " 'there',\n",
       " 'these',\n",
       " 'they',\n",
       " 'this',\n",
       " 'those',\n",
       " 'through',\n",
       " 'to',\n",
       " 'too',\n",
       " 'under',\n",
       " 'until',\n",
       " 'up',\n",
       " 've',\n",
       " 'very',\n",
       " 'was',\n",
       " 'wasn',\n",
       " \"wasn't\",\n",
       " 'we',\n",
       " 'were',\n",
       " 'weren',\n",
       " \"weren't\",\n",
       " 'what',\n",
       " 'when',\n",
       " 'where',\n",
       " 'which',\n",
       " 'while',\n",
       " 'who',\n",
       " 'whom',\n",
       " 'why',\n",
       " 'will',\n",
       " 'with',\n",
       " 'won',\n",
       " \"won't\",\n",
       " 'wouldn',\n",
       " \"wouldn't\",\n",
       " 'y',\n",
       " 'you',\n",
       " \"you'd\",\n",
       " \"you'll\",\n",
       " \"you're\",\n",
       " \"you've\",\n",
       " 'your',\n",
       " 'yours',\n",
       " 'yourself',\n",
       " 'yourselves',\n",
       " '{',\n",
       " '|',\n",
       " '}',\n",
       " '~'}"
      ]
     },
     "execution_count": 114,
     "metadata": {},
     "output_type": "execute_result"
    }
   ],
   "source": [
    "stop_words = set(stopwords.words('english')+ list(punctuation))"
   ]
  },
  {
   "cell_type": "code",
   "execution_count": 120,
   "metadata": {},
   "outputs": [],
   "source": [
    "word_sent = [word for word in word_tokenize(data.lower()) if word not in stop_words]"
   ]
  },
  {
   "cell_type": "code",
   "execution_count": 123,
   "metadata": {},
   "outputs": [],
   "source": [
    "freq = FreqDist(word_sent)"
   ]
  },
  {
   "cell_type": "code",
   "execution_count": 124,
   "metadata": {},
   "outputs": [
    {
     "data": {
      "text/plain": [
       "FreqDist({'us': 23, 'fiction': 10, 'one': 9, 'men': 8, 'time': 7, 'would': 7, 'trauma': 6, 'also': 6, 'stories': 5, 'violence': 5, ...})"
      ]
     },
     "execution_count": 124,
     "metadata": {},
     "output_type": "execute_result"
    }
   ],
   "source": [
    "freq"
   ]
  },
  {
   "cell_type": "code",
   "execution_count": 127,
   "metadata": {},
   "outputs": [
    {
     "data": {
      "text/plain": [
       "['us',\n",
       " 'fiction',\n",
       " 'one',\n",
       " 'men',\n",
       " 'time',\n",
       " 'would',\n",
       " 'trauma',\n",
       " 'also',\n",
       " 'stories',\n",
       " 'violence',\n",
       " 'story',\n",
       " 'narrative',\n",
       " 'crowd',\n",
       " 'around',\n",
       " 'could',\n",
       " 'make',\n",
       " 'loop',\n",
       " 'helps',\n",
       " 'way',\n",
       " 'friend']"
      ]
     },
     "execution_count": 127,
     "metadata": {},
     "output_type": "execute_result"
    }
   ],
   "source": [
    "nlargest(20, freq, key=freq.get)"
   ]
  },
  {
   "cell_type": "code",
   "execution_count": 129,
   "metadata": {},
   "outputs": [],
   "source": [
    "ranking_dict = defaultdict(int)"
   ]
  },
  {
   "cell_type": "code",
   "execution_count": 134,
   "metadata": {},
   "outputs": [],
   "source": [
    "for i, sent in enumerate(sents):\n",
    "    for w in word_tokenize(sent.lower()):\n",
    "        if w in freq:\n",
    "            ranking_dict[i] += freq[w]"
   ]
  },
  {
   "cell_type": "code",
   "execution_count": 136,
   "metadata": {},
   "outputs": [
    {
     "data": {
      "text/plain": [
       "[47, 74, 53, 111]"
      ]
     },
     "execution_count": 136,
     "metadata": {},
     "output_type": "execute_result"
    }
   ],
   "source": [
    "sents_index = nlargest(4, ranking_dict, key=ranking_dict.get)\n",
    "sents_index"
   ]
  },
  {
   "cell_type": "code",
   "execution_count": 137,
   "metadata": {},
   "outputs": [
    {
     "data": {
      "text/plain": [
       "['We three women were literally hanging out for all to see as the final hour ticked by, and the sympathetic men who shared the perch assured us that they would keep us safe once the rally was over.',\n",
       " 'At times, other men would join the circle, pretending to want to help us so they could make it to the front and lunge at us.',\n",
       " 'That line of stone-faced policemen and their automatic weapons appear more in spirit, asking the question: whose peace do they serve  The ease with which my attackers erased and claimed control over me, their entitled gaze and my disappearing safety These fragments have yet to shape themselves into a narrative I can make meaning out of, but they find their way in through my obsessions: What do we do when we are broken, or are reminded that we could be  How do we move forward, especially when we know there is so rarely justice  Why does it keep happening, again and again  In recent years, we have seen the wax and wane of memoir, and the rise of testimony and witness.',\n",
       " 'I pretended everything was fine because I did not want to offend anyone, and that too, is the long, slow, reality of violence, one that fiction can reflect back to us.']"
      ]
     },
     "execution_count": 137,
     "metadata": {},
     "output_type": "execute_result"
    }
   ],
   "source": [
    "[sents[j] for j in sorted(sents_index) ]"
   ]
  },
  {
   "cell_type": "code",
   "execution_count": null,
   "metadata": {},
   "outputs": [],
   "source": []
  }
 ],
 "metadata": {
  "kernelspec": {
   "display_name": "Python 3",
   "language": "python",
   "name": "python3"
  },
  "language_info": {
   "codemirror_mode": {
    "name": "ipython",
    "version": 3
   },
   "file_extension": ".py",
   "mimetype": "text/x-python",
   "name": "python",
   "nbconvert_exporter": "python",
   "pygments_lexer": "ipython3",
   "version": "3.6.5"
  }
 },
 "nbformat": 4,
 "nbformat_minor": 2
}
